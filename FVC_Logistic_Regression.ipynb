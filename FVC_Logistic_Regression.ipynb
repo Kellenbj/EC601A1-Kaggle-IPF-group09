{
 "cells": [
  {
   "cell_type": "code",
   "execution_count": 3,
   "metadata": {
    "_cell_guid": "b1076dfc-b9ad-4769-8c92-a6c4dae69d19",
    "_uuid": "8f2839f25d086af736a60e9eeb907d3b93b6e0e5"
   },
   "outputs": [],
   "source": [
    "import numpy as np\n",
    "import pandas as pd\n",
    "from sklearn.preprocessing import LabelEncoder\n",
    "import matplotlib.pyplot as plt\n",
    "import os\n",
    "from pathlib import Path\n",
    "from sklearn.model_selection import KFold\n",
    "from sklearn.metrics import mean_absolute_error\n",
    "\n",
    "le = LabelEncoder()\n",
    "ROOT = Path(\"/home/kellen/Downloads/osic-pulmonary-fibrosis-progression\")"
   ]
  },
  {
   "cell_type": "code",
   "execution_count": 4,
   "metadata": {},
   "outputs": [],
   "source": [
    "train = pd.read_csv(ROOT / 'train.csv')\n",
    "test = pd.read_csv(ROOT / 'test.csv')\n",
    "sub = pd.read_csv(ROOT / 'sample_submission.csv')"
   ]
  },
  {
   "cell_type": "code",
   "execution_count": 5,
   "metadata": {},
   "outputs": [],
   "source": [
    "# create training data\n",
    "\n",
    "trainData = []\n",
    "for p in train['Patient'].unique():\n",
    "    patientData = train[train['Patient'] == p]\n",
    "    firstMeasure = list(patientData.iloc[0, :].values)\n",
    "    for i, week in enumerate(patientData['Weeks'].iloc[1:]):\n",
    "        fvc = patientData.iloc[i, 2]\n",
    "        trainDataPoint = firstMeasure + [week, fvc]\n",
    "        trainData.append(trainDataPoint)\n",
    "trainData = pd.DataFrame(trainData)\n",
    "\n",
    "trainData.columns = ['PatientID', 'first_week', 'first_FVC', 'first_Percent', 'Age', 'Sex', 'SmokingStatus'] + ['target_week', 'target_FVC']\n",
    "trainData['delta_week'] = trainData['target_week'] - trainData['first_week']\n",
    "trainData.drop(columns = ['first_Percent', 'target_week', 'first_week'], inplace = True)"
   ]
  },
  {
   "cell_type": "code",
   "execution_count": 6,
   "metadata": {},
   "outputs": [],
   "source": [
    "# create testing data\n",
    "subSplit = np.array(list(sub['Patient_Week'].apply(lambda x: x.split('_')).values))\n",
    "testData = []\n",
    "for p in np.unique(subSplit[:, 0]):\n",
    "    patientData = test[test['Patient'] == p]\n",
    "    firstMeasure = list(patientData.iloc[0, :].values)\n",
    "    for week in subSplit[subSplit[:, 0] == p, 1]:\n",
    "        testDataPoint = firstMeasure + [week]\n",
    "        testData.append(testDataPoint)\n",
    "testData = pd.DataFrame(testData)\n",
    "testData.columns = ['PatientID', 'first_week', 'first_FVC', 'first_Percent', 'Age', 'Sex', 'SmokingStatus'] + ['target_week']\n",
    "\n",
    "testData['delta_week'] = testData['target_week'].map(int) - testData['first_week']\n",
    "testData.drop(columns = ['first_Percent', 'first_week'], inplace = True)"
   ]
  },
  {
   "cell_type": "code",
   "execution_count": 7,
   "metadata": {},
   "outputs": [],
   "source": [
    "# fe engineering\n",
    "# trainData.drop(columns = ['PatientID'], inplace = True)\n",
    "# testData.drop(columns = ['PatientID'], inplace = True)\n",
    "\n",
    "trainData['Sex'] = le.fit_transform(trainData['Sex'])\n",
    "testData['Sex'] = le.transform(testData['Sex'])\n",
    "\n",
    "trainData['SmokingStatus'] = le.fit_transform(trainData['SmokingStatus'])\n",
    "testData['SmokingStatus'] = le.transform(testData['SmokingStatus'])"
   ]
  },
  {
   "cell_type": "code",
   "execution_count": 8,
   "metadata": {},
   "outputs": [],
   "source": [
    "from sklearn.linear_model import LinearRegression\n",
    "from sklearn.neighbors import KNeighborsRegressor\n",
    "\n",
    "model = LinearRegression()\n",
    "model.fit(trainData.drop(columns = ['PatientID', 'target_FVC']), trainData['target_FVC'])\n",
    "prediction = model.predict(testData.drop(columns = ['PatientID', 'target_week']))"
   ]
  },
  {
   "cell_type": "code",
   "execution_count": 9,
   "metadata": {},
   "outputs": [],
   "source": [
    "sub = []\n",
    "for i in range(testData.shape[0]):\n",
    "    patient, week, pred = testData.loc[i, 'PatientID'], testData.loc[i, 'target_week'], prediction[i]\n",
    "    confidence = 225\n",
    "    sub.append([patient + '_' + str(week), pred, confidence])\n",
    "sub = pd.DataFrame(sub)\n",
    "sub.columns = ['Patient_Week', 'FVC', 'Confidence']"
   ]
  },
  {
   "cell_type": "code",
   "execution_count": 10,
   "metadata": {},
   "outputs": [],
   "source": [
    "sub.to_csv(ROOT / 'submission.csv', index=False)"
   ]
  },
  {
   "cell_type": "code",
   "execution_count": null,
   "metadata": {},
   "outputs": [],
   "source": []
  }
 ],
 "metadata": {
  "kernelspec": {
   "display_name": "Python 3",
   "language": "python",
   "name": "python3"
  },
  "language_info": {
   "codemirror_mode": {
    "name": "ipython",
    "version": 3
   },
   "file_extension": ".py",
   "mimetype": "text/x-python",
   "name": "python",
   "nbconvert_exporter": "python",
   "pygments_lexer": "ipython3",
   "version": "3.8.5"
  }
 },
 "nbformat": 4,
 "nbformat_minor": 4
}
